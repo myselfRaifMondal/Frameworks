{
 "cells": [
  {
   "cell_type": "markdown",
   "id": "4c3aad74-d5c4-4ba2-aa39-4d65fff17786",
   "metadata": {},
   "source": [
    "# Linear Models\n",
    "The following are a set of methods for regression in which the target value is expected to be a linear combination of the features."
   ]
  },
  {
   "cell_type": "markdown",
   "id": "1e1252f1-a8c1-41d8-9cfc-91be5958e723",
   "metadata": {},
   "source": [
    "## Ordinary Least Squares\n",
    "Linear Regression fits a linear model to minimize the residual sum of squares between the observed targets in the dataset."
   ]
  },
  {
   "cell_type": "code",
   "execution_count": 1,
   "id": "b9310a89-b25b-4e47-bfab-6fcd7547cee6",
   "metadata": {},
   "outputs": [
    {
     "data": {
      "text/plain": [
       "array([0.5, 0.5])"
      ]
     },
     "execution_count": 1,
     "metadata": {},
     "output_type": "execute_result"
    }
   ],
   "source": [
    "from sklearn import linear_model\n",
    "reg = linear_model.LinearRegression()\n",
    "reg.fit([[0,0], [1, 1], [2, 2]], [0, 1, 2])\n",
    "reg.coef_"
   ]
  },
  {
   "cell_type": "markdown",
   "id": "1fc255fc-b8f6-4faf-bf7a-65620af6f1f5",
   "metadata": {},
   "source": [
    "# Ridge Regression and Classification\n",
    "## Regression\n",
    "Ridge regression addresses some of the problems of Ordinary Least Squares by imposing a penalty on the size of the coefficients."
   ]
  },
  {
   "cell_type": "code",
   "execution_count": 2,
   "id": "408d2dea-bae3-4d8c-9b8d-3d5d0434e945",
   "metadata": {},
   "outputs": [
    {
     "data": {
      "text/plain": [
       "np.float64(0.13636363636363638)"
      ]
     },
     "execution_count": 2,
     "metadata": {},
     "output_type": "execute_result"
    }
   ],
   "source": [
    "from sklearn import linear_model\n",
    "reg = linear_model.Ridge(alpha=.5)\n",
    "reg.fit([[0, 0], [0, 0], [1, 1]], [0, .1, 1])\n",
    "reg.coef_\n",
    "reg.intercept_"
   ]
  },
  {
   "cell_type": "code",
   "execution_count": null,
   "id": "3b71aa5d-d54b-4946-b047-b6c843d0d07b",
   "metadata": {},
   "outputs": [],
   "source": []
  }
 ],
 "metadata": {
  "kernelspec": {
   "display_name": "Python 3 (ipykernel)",
   "language": "python",
   "name": "python3"
  },
  "language_info": {
   "codemirror_mode": {
    "name": "ipython",
    "version": 3
   },
   "file_extension": ".py",
   "mimetype": "text/x-python",
   "name": "python",
   "nbconvert_exporter": "python",
   "pygments_lexer": "ipython3",
   "version": "3.11.3"
  }
 },
 "nbformat": 4,
 "nbformat_minor": 5
}
